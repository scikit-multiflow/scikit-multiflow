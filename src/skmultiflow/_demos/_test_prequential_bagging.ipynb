{
 "cells": [
  {
   "cell_type": "code",
   "execution_count": 1,
   "metadata": {},
   "outputs": [],
   "source": [
    "from skmultiflow.trees import HoeffdingTreeClassifier\n",
    "from skmultiflow.meta import LeveragingBaggingClassifier\n",
    "from skmultiflow.data import WaveformGenerator\n",
    "from skmultiflow.evaluation import EvaluatePrequential\n",
    "%matplotlib notebook"
   ]
  },
  {
   "cell_type": "markdown",
   "metadata": {},
   "source": [
    "    This demo shows the evaluation process of a LeveragingBaggingClassifier,\n",
    "    initialized with different base estimators."
   ]
  },
  {
   "cell_type": "code",
   "execution_count": 3,
   "metadata": {},
   "outputs": [],
   "source": [
    "# Setup the File Stream\n",
    "stream = WaveformGenerator()"
   ]
  },
  {
   "cell_type": "code",
   "execution_count": 5,
   "metadata": {},
   "outputs": [],
   "source": [
    "# Setup the classifier\n",
    "clf = LeveragingBaggingClassifier(base_estimator=HoeffdingTreeClassifier(), n_estimators=2)"
   ]
  },
  {
   "cell_type": "code",
   "execution_count": 7,
   "metadata": {},
   "outputs": [],
   "source": [
    "# Setup the evaluator\n",
    "evaluator = EvaluatePrequential(pretrain_size=2000, max_samples=20000, \n",
    "                                output_file='test_prequential_bagging.csv', show_plot=True)"
   ]
  },
  {
   "cell_type": "code",
   "execution_count": 8,
   "metadata": {},
   "outputs": [
    {
     "name": "stdout",
     "output_type": "stream",
     "text": [
      "Prequential Evaluation\n",
      "Evaluating 1 target(s).\n",
      "Pre-training on 2000 sample(s).\n",
      "Evaluating...\n",
      " #################### [100%] [141.61s]\n",
      "Processed samples: 20000\n",
      "Mean performance:\n",
      "M0 - Accuracy     : 0.8158\n",
      "M0 - Kappa        : 0.7236\n"
     ]
    },
    {
     "data": {
      "text/plain": [
       "[LeveragingBaggingClassifier(base_estimator=HoeffdingTreeClassifier(binary_split=False,\n",
       "                                                                    grace_period=200,\n",
       "                                                                    leaf_prediction='nba',\n",
       "                                                                    max_byte_size=33554432,\n",
       "                                                                    memory_estimate_period=1000000,\n",
       "                                                                    nb_threshold=0,\n",
       "                                                                    no_preprune=False,\n",
       "                                                                    nominal_attributes=None,\n",
       "                                                                    remove_poor_atts=None,\n",
       "                                                                    split_confidence=1e-07,\n",
       "                                                                    split_criterion='info_gain',\n",
       "                                                                    stop_mem_management=False,\n",
       "                                                                    tie_threshold=0.05),\n",
       "                             delta=0.002, enable_code_matrix=False,\n",
       "                             leverage_algorithm='leveraging_bag', n_estimators=2,\n",
       "                             random_state=None, w=6)]"
      ]
     },
     "execution_count": 8,
     "metadata": {},
     "output_type": "execute_result"
    }
   ],
   "source": [
    "# Evaluate\n",
    "evaluator.evaluate(stream=stream, model=clf)"
   ]
  },
  {
   "cell_type": "code",
   "execution_count": null,
   "metadata": {},
   "outputs": [],
   "source": []
  }
 ],
 "metadata": {
  "kernelspec": {
   "display_name": "Python 3",
   "language": "python",
   "name": "python3"
  },
  "language_info": {
   "codemirror_mode": {
    "name": "ipython",
    "version": 3
   },
   "file_extension": ".py",
   "mimetype": "text/x-python",
   "name": "python",
   "nbconvert_exporter": "python",
   "pygments_lexer": "ipython3",
   "version": "3.7.4"
  }
 },
 "nbformat": 4,
 "nbformat_minor": 2
}
