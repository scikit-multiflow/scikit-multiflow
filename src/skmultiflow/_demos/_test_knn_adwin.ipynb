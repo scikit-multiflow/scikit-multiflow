{
 "cells": [
  {
   "cell_type": "code",
   "execution_count": 1,
   "metadata": {},
   "outputs": [
    {
     "name": "stderr",
     "output_type": "stream",
     "text": [
      "/home/ben/miniconda3/lib/python3.7/site-packages/sklearn/utils/deprecation.py:144: FutureWarning: The sklearn.neighbors.classification module is  deprecated in version 0.22 and will be removed in version 0.24. The corresponding classes / functions should instead be imported from sklearn.neighbors. Anything that cannot be imported from sklearn.neighbors is now part of the private API.\n",
      "  warnings.warn(message, FutureWarning)\n"
     ]
    }
   ],
   "source": [
    "import logging\n",
    "from skmultiflow.lazy import KNNADWINClassifier\n",
    "from skmultiflow.data import FileStream\n",
    "from skmultiflow.transform import OneHotToCategorical\n",
    "from sklearn.neighbors.classification import KNeighborsClassifier\n",
    "from timeit import default_timer as timer"
   ]
  },
  {
   "cell_type": "markdown",
   "metadata": {},
   "source": [
    "    This demo tests the KNNADWINClassifier on a file stream, which gives\n",
    "    instances coming from a SEA generator. \n",
    "    \n",
    "    The test computes the performance of the KNNADWINClassifier as well as\n",
    "    the time to create the structure and classify max_samples (10000 by \n",
    "    default) instances."
   ]
  },
  {
   "cell_type": "code",
   "execution_count": 3,
   "metadata": {},
   "outputs": [
    {
     "name": "stderr",
     "output_type": "stream",
     "text": [
      "0.0%\n",
      "5.0%\n",
      "10.0%\n",
      "15.0%\n",
      "20.0%\n",
      "25.0%\n",
      "30.0%\n",
      "35.0%\n",
      "40.0%\n",
      "45.0%\n",
      "50.0%\n",
      "55.0%\n",
      "60.0%\n",
      "65.0%\n",
      "70.0%\n",
      "75.0%\n",
      "80.0%\n",
      "85.0%\n",
      "90.0%\n",
      "95.0%\n"
     ]
    }
   ],
   "source": [
    "start = timer()\n",
    "logging.basicConfig(format='%(message)s', level=logging.INFO)\n",
    "stream = FileStream(\"https://raw.githubusercontent.com/scikit-multiflow/streaming-datasets/\"\n",
    "                        \"master/sea_big.csv\", -1, 1)\n",
    "\n",
    "knn = KNNADWINClassifier(n_neighbors=8, leaf_size=40, max_window_size=2000)\n",
    "\n",
    "compare = KNeighborsClassifier(n_neighbors=8, algorithm='kd_tree', leaf_size=40, metric='euclidean')\n",
    "first = True\n",
    "train = 200\n",
    "if train > 0:\n",
    "    X, y = stream.next_sample(train)\n",
    "    knn.partial_fit(X, y, classes=stream.target_values)\n",
    "    compare.fit(X, y)\n",
    "    first = False\n",
    "n_samples = 0\n",
    "max_samples = 10000\n",
    "my_corrects = 0\n",
    "compare_corrects = 0\n",
    "\n",
    "while n_samples < max_samples:\n",
    "    if n_samples % (max_samples/20) == 0:\n",
    "        logging.info('%s%%', str((n_samples//(max_samples/20)*5)))\n",
    "    X, y = stream.next_sample()\n",
    "    my_pred = knn.predict(X)\n",
    "    if first:\n",
    "        knn.partial_fit(X, y, classes=stream.target_values)\n",
    "        first = False\n",
    "    else:\n",
    "        knn.partial_fit(X, y)\n",
    "    compare_pred = compare.predict(X)\n",
    "    if y[0] == my_pred[0]:\n",
    "        my_corrects += 1\n",
    "    if y[0] == compare_pred[0]:\n",
    "        compare_corrects += 1\n",
    "    n_samples += 1\n",
    "\n",
    "end = timer()"
   ]
  },
  {
   "cell_type": "code",
   "execution_count": 4,
   "metadata": {},
   "outputs": [
    {
     "name": "stdout",
     "output_type": "stream",
     "text": [
      "Evaluation time: 29.61288799000613\n",
      "10000 samples analyzed.\n",
      "My performance: 0.872\n",
      "Compare performance: 0.8543\n"
     ]
    }
   ],
   "source": [
    "print('Evaluation time: ' + str(end - start))\n",
    "print(str(n_samples) + ' samples analyzed.')\n",
    "print('My performance: ' + str(my_corrects / n_samples))\n",
    "print('Compare performance: ' + str(compare_corrects / n_samples))"
   ]
  },
  {
   "cell_type": "code",
   "execution_count": null,
   "metadata": {},
   "outputs": [],
   "source": []
  }
 ],
 "metadata": {
  "kernelspec": {
   "display_name": "Python 3",
   "language": "python",
   "name": "python3"
  },
  "language_info": {
   "codemirror_mode": {
    "name": "ipython",
    "version": 3
   },
   "file_extension": ".py",
   "mimetype": "text/x-python",
   "name": "python",
   "nbconvert_exporter": "python",
   "pygments_lexer": "ipython3",
   "version": "3.7.4"
  }
 },
 "nbformat": 4,
 "nbformat_minor": 2
}
