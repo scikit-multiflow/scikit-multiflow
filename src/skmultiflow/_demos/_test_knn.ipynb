{
 "cells": [
  {
   "cell_type": "code",
   "execution_count": 1,
   "metadata": {},
   "outputs": [],
   "source": [
    "from skmultiflow.lazy import KNNClassifier\n",
    "from skmultiflow.data import FileStream\n",
    "from timeit import default_timer as timer\n",
    "%matplotlib notebook"
   ]
  },
  {
   "cell_type": "markdown",
   "metadata": {},
   "source": [
    "    This demo tests the KNNClassifier on a file stream, which gives\n",
    "    instances coming from a SEA generator. \n",
    "    \n",
    "    The test computes the performance of the KNNClassifier as well as\n",
    "    the time to create the structure and classify max_samples (5000 by \n",
    "    default) instances."
   ]
  },
  {
   "cell_type": "code",
   "execution_count": 2,
   "metadata": {},
   "outputs": [],
   "source": [
    "# Set up stream\n",
    "stream = FileStream(\"https://raw.githubusercontent.com/scikit-multiflow/streaming-datasets/master/sea_big.csv\")"
   ]
  },
  {
   "cell_type": "code",
   "execution_count": 3,
   "metadata": {},
   "outputs": [],
   "source": [
    "# Set up training data\n",
    "train = 200\n",
    "X, y = stream.next_sample(train)"
   ]
  },
  {
   "cell_type": "code",
   "execution_count": 6,
   "metadata": {},
   "outputs": [],
   "source": [
    "start = timer()\n",
    "knn = KNNClassifier(n_neighbors=8, max_window_size=2000, leaf_size=40)\n",
    "\n",
    "knn.partial_fit(X, y)\n",
    "\n",
    "n_samples = 0\n",
    "max_samples = 5000\n",
    "my_corrects = 0\n",
    "\n",
    "while n_samples < max_samples:\n",
    "    X, y = stream.next_sample()\n",
    "    my_pred = knn.predict(X)\n",
    "    if y[0] == my_pred[0]:\n",
    "            my_corrects += 1\n",
    "    n_samples += 1\n",
    "\n",
    "end = timer()"
   ]
  },
  {
   "cell_type": "code",
   "execution_count": 7,
   "metadata": {},
   "outputs": [
    {
     "name": "stdout",
     "output_type": "stream",
     "text": [
      "Evaluation time: 1.6033266049998929\n",
      "5000 samples analyzed.\n",
      "My performance: 0.8574\n"
     ]
    }
   ],
   "source": [
    "print('Evaluation time: ' + str(end-start))\n",
    "print(str(n_samples) + ' samples analyzed.')\n",
    "print('My performance: ' + str(my_corrects/n_samples))"
   ]
  },
  {
   "cell_type": "code",
   "execution_count": null,
   "metadata": {},
   "outputs": [],
   "source": []
  }
 ],
 "metadata": {
  "kernelspec": {
   "display_name": "Python 3",
   "language": "python",
   "name": "python3"
  },
  "language_info": {
   "codemirror_mode": {
    "name": "ipython",
    "version": 3
   },
   "file_extension": ".py",
   "mimetype": "text/x-python",
   "name": "python",
   "nbconvert_exporter": "python",
   "pygments_lexer": "ipython3",
   "version": "3.7.4"
  }
 },
 "nbformat": 4,
 "nbformat_minor": 2
}
