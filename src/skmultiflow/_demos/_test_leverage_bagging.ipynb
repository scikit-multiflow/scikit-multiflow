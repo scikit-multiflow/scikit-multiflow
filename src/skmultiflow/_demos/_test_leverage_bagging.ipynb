{
 "cells": [
  {
   "cell_type": "code",
   "execution_count": 4,
   "metadata": {},
   "outputs": [],
   "source": [
    "import warnings, logging\n",
    "from skmultiflow.meta import LeveragingBaggingClassifier\n",
    "from skmultiflow.lazy import KNNClassifier\n",
    "from skmultiflow.data import SEAGenerator\n",
    "from timeit import default_timer as timer\n",
    "%matplotlib notebook"
   ]
  },
  {
   "cell_type": "markdown",
   "metadata": {},
   "source": [
    "    This demo tests the LeveragingBaggingClassifier on a file stream, which gives\n",
    "    instances coming from a SEA generator. \n",
    "\n",
    "    The test computes the performance of the LeveragingBaggingClassifier as well\n",
    "    as the time to create the structure and classify max_samples (2000 by default) \n",
    "    instances."
   ]
  },
  {
   "cell_type": "code",
   "execution_count": 5,
   "metadata": {},
   "outputs": [
    {
     "name": "stderr",
     "output_type": "stream",
     "text": [
      "0.0%\n",
      "5.0%\n",
      "10.0%\n",
      "15.0%\n",
      "20.0%\n",
      "25.0%\n",
      "30.0%\n",
      "35.0%\n",
      "40.0%\n",
      "45.0%\n",
      "50.0%\n",
      "55.0%\n",
      "60.0%\n",
      "65.0%\n",
      "70.0%\n",
      "75.0%\n",
      "80.0%\n",
      "85.0%\n",
      "90.0%\n",
      "95.0%\n",
      "100.0%\n"
     ]
    }
   ],
   "source": [
    "start = timer()\n",
    "\n",
    "logging.basicConfig(format='%(message)s', level=logging.INFO)\n",
    "warnings.filterwarnings(\"ignore\", \".*Passing 1d.*\")\n",
    "\n",
    "# Setup stream\n",
    "stream = SEAGenerator(1, noise_percentage=0.067, random_state=1)\n",
    "\n",
    "# Setup classifier\n",
    "clf = LeveragingBaggingClassifier(base_estimator=KNNClassifier(n_neighbors=8, max_window_size=2000, leaf_size=30),\n",
    "                                    n_estimators=1, random_state=1)\n",
    "\n",
    "sample_count = 0\n",
    "correctly_classified = 0\n",
    "max_samples = 2000\n",
    "train_size = 200\n",
    "first = True\n",
    "if train_size > 0:\n",
    "    X, y = stream.next_sample(train_size)\n",
    "    clf.partial_fit(X, y, classes=stream.target_values)\n",
    "    first = False\n",
    "\n",
    "logging.info('%s%%', 0.0)\n",
    "while sample_count < max_samples:\n",
    "    if (sample_count+1) % (max_samples / 20) == 0:\n",
    "        logging.info('%s%%', str(((sample_count // (max_samples / 20)+1) * 5)))\n",
    "    X, y = stream.next_sample(2)\n",
    "    my_pred = clf.predict(X)\n",
    "    if first:\n",
    "        clf.partial_fit(X, y, classes=stream.target_values)\n",
    "        first = False\n",
    "    else:\n",
    "        clf.partial_fit(X, y)\n",
    "\n",
    "    if my_pred is not None:\n",
    "        if y[0] == my_pred[0]:\n",
    "            correctly_classified += 1\n",
    "    \n",
    "    sample_count += 1\n",
    "\n",
    "end = timer()"
   ]
  },
  {
   "cell_type": "code",
   "execution_count": 7,
   "metadata": {},
   "outputs": [
    {
     "name": "stdout",
     "output_type": "stream",
     "text": [
      "Evaluation time: 9.2202634100031\n",
      "2000 samples analyzed.\n",
      "My performance: 0.843\n"
     ]
    }
   ],
   "source": [
    "print('Evaluation time: ' + str(end - start))\n",
    "print(str(sample_count) + ' samples analyzed.')\n",
    "print('My performance: ' + str(correctly_classified / sample_count))"
   ]
  },
  {
   "cell_type": "code",
   "execution_count": null,
   "metadata": {},
   "outputs": [],
   "source": []
  }
 ],
 "metadata": {
  "kernelspec": {
   "display_name": "Python 3",
   "language": "python",
   "name": "python3"
  },
  "language_info": {
   "codemirror_mode": {
    "name": "ipython",
    "version": 3
   },
   "file_extension": ".py",
   "mimetype": "text/x-python",
   "name": "python",
   "nbconvert_exporter": "python",
   "pygments_lexer": "ipython3",
   "version": "3.7.4"
  }
 },
 "nbformat": 4,
 "nbformat_minor": 2
}
