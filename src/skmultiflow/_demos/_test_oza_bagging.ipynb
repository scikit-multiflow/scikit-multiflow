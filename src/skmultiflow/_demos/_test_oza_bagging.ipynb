{
 "cells": [
  {
   "cell_type": "code",
   "execution_count": 1,
   "metadata": {},
   "outputs": [],
   "source": [
    "import logging\n",
    "import warnings\n",
    "from skmultiflow.meta import OzaBaggingClassifier\n",
    "from skmultiflow.lazy import KNNADWINClassifier\n",
    "from skmultiflow.data import SEAGenerator"
   ]
  },
  {
   "cell_type": "markdown",
   "metadata": {},
   "source": [
    "    This demo tests the OzaBaggingClassifier using KNNADWINClassifier as base estimator\n",
    "    on samples given by a SEAGenerator. \n",
    "\n",
    "    The test computes the performance of the OzaBaggingClassifier as well\n",
    "    as the time to create the structure and classify max_samples (5000 by \n",
    "    default) instances."
   ]
  },
  {
   "cell_type": "code",
   "execution_count": 3,
   "metadata": {},
   "outputs": [],
   "source": [
    "logging.basicConfig(format='%(message)s', level=logging.INFO)\n",
    "warnings.filterwarnings(\"ignore\", \".*Passing 1d.*\")\n",
    "\n",
    "# Set up stream\n",
    "stream = SEAGenerator(1, noise_percentage=.067, random_state=1)"
   ]
  },
  {
   "cell_type": "code",
   "execution_count": 4,
   "metadata": {},
   "outputs": [],
   "source": [
    "# Set up classifier\n",
    "clf = OzaBaggingClassifier(base_estimator=KNNADWINClassifier(n_neighbors=8, max_window_size=2000, leaf_size=30),\n",
    "                           n_estimators=2, random_state=1)"
   ]
  },
  {
   "cell_type": "code",
   "execution_count": 5,
   "metadata": {},
   "outputs": [
    {
     "name": "stderr",
     "output_type": "stream",
     "text": [
      "0.0%\n",
      "5.0%\n",
      "10.0%\n",
      "15.0%\n",
      "20.0%\n",
      "25.0%\n",
      "30.0%\n",
      "35.0%\n",
      "40.0%\n",
      "45.0%\n",
      "50.0%\n",
      "55.0%\n",
      "60.0%\n",
      "65.0%\n",
      "70.0%\n",
      "75.0%\n",
      "80.0%\n",
      "85.0%\n",
      "90.0%\n",
      "95.0%\n"
     ]
    },
    {
     "name": "stdout",
     "output_type": "stream",
     "text": [
      "5000 samples analyzed.\n",
      "My performance: 0.9018\n"
     ]
    }
   ],
   "source": [
    "sample_count = 0\n",
    "correctly_classified = 0\n",
    "max_samples = 5000\n",
    "train_size = 8\n",
    "first = True\n",
    "if train_size > 0:\n",
    "    X, y = stream.next_sample(train_size)\n",
    "    clf.partial_fit(X, y, classes=stream.target_values)\n",
    "    first = False\n",
    "\n",
    "while sample_count < max_samples:\n",
    "    if sample_count % (max_samples/20) == 0:\n",
    "        logging.info('%s%%', str((sample_count//(max_samples/20)*5)))\n",
    "    X, y = stream.next_sample()\n",
    "    my_pred = clf.predict(X)\n",
    "\n",
    "    if first:\n",
    "        clf.partial_fit(X, y, classes=stream.target_values)\n",
    "        first = False\n",
    "    else:\n",
    "        clf.partial_fit(X, y)\n",
    "\n",
    "    if my_pred is not None:\n",
    "        if y[0] == my_pred[0]:\n",
    "            correctly_classified += 1\n",
    "\n",
    "    sample_count += 1\n",
    "\n",
    "print(str(sample_count) + ' samples analyzed.')\n",
    "print('My performance: ' + str(correctly_classified / sample_count))"
   ]
  },
  {
   "cell_type": "code",
   "execution_count": null,
   "metadata": {},
   "outputs": [],
   "source": []
  }
 ],
 "metadata": {
  "kernelspec": {
   "display_name": "Python 3",
   "language": "python",
   "name": "python3"
  },
  "language_info": {
   "codemirror_mode": {
    "name": "ipython",
    "version": 3
   },
   "file_extension": ".py",
   "mimetype": "text/x-python",
   "name": "python",
   "nbconvert_exporter": "python",
   "pygments_lexer": "ipython3",
   "version": "3.7.4"
  }
 },
 "nbformat": 4,
 "nbformat_minor": 2
}
