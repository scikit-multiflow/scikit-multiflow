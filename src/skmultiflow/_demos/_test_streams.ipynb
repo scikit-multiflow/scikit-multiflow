{
 "cells": [
  {
   "cell_type": "code",
   "execution_count": 1,
   "metadata": {},
   "outputs": [],
   "source": [
    "from skmultiflow.data import FileStream\n",
    "from skmultiflow.data import RandomRBFGeneratorDrift\n",
    "from skmultiflow.data import SEAGenerator\n",
    "%matplotlib notebook"
   ]
  },
  {
   "cell_type": "markdown",
   "metadata": {},
   "source": [
    "    This demo tests if the streams are correctly generating samples.\n"
   ]
  },
  {
   "cell_type": "code",
   "execution_count": 4,
   "metadata": {},
   "outputs": [],
   "source": [
    "# Setup the different streams\n",
    "\n",
    "stream = FileStream(\"https://raw.githubusercontent.com/scikit-multiflow/streaming-datasets/\"\n",
    "                    \"master/covtype.csv\")\n",
    "\n",
    "rbf_drift = RandomRBFGeneratorDrift(change_speed=41.00, n_centroids=50,\n",
    "                                    n_classes=2, n_features=10, num_drift_centroids=50)\n",
    "\n",
    "sea = SEAGenerator()"
   ]
  },
  {
   "cell_type": "code",
   "execution_count": 5,
   "metadata": {},
   "outputs": [
    {
     "name": "stdout",
     "output_type": "stream",
     "text": [
      "1 instance:\n",
      "\n",
      "[[2596   51    3  258    0  510  221  232  148 6279    1    0    0    0\n",
      "     0    0    0    0    0    0    0    0    0    0    0    0    0    0\n",
      "     0    0    0    0    0    0    0    0    0    0    0    0    0    0\n",
      "     1    0    0    0    0    0    0    0    0    0    0    0]]\n",
      "[5]\n",
      "[[1.06717293 4.23780994 1.05103735]]\n",
      "[0]\n",
      "\n",
      "\n",
      "10 instances:\n",
      "\n",
      "[[2590   56    2  212   -6  390  220  235  151 6225    1    0    0    0\n",
      "     0    0    0    0    0    0    0    0    0    0    0    0    0    0\n",
      "     0    0    0    0    0    0    0    0    0    0    0    0    0    0\n",
      "     1    0    0    0    0    0    0    0    0    0    0    0]\n",
      " [2804  139    9  268   65 3180  234  238  135 6121    1    0    0    0\n",
      "     0    0    0    0    0    0    0    0    0    0    0    1    0    0\n",
      "     0    0    0    0    0    0    0    0    0    0    0    0    0    0\n",
      "     0    0    0    0    0    0    0    0    0    0    0    0]\n",
      " [2785  155   18  242  118 3090  238  238  122 6211    1    0    0    0\n",
      "     0    0    0    0    0    0    0    0    0    0    0    0    0    0\n",
      "     0    0    0    0    0    0    0    0    0    0    0    0    0    0\n",
      "     0    1    0    0    0    0    0    0    0    0    0    0]\n",
      " [2595   45    2  153   -1  391  220  234  150 6172    1    0    0    0\n",
      "     0    0    0    0    0    0    0    0    0    0    0    0    0    0\n",
      "     0    0    0    0    0    0    0    0    0    0    0    0    0    0\n",
      "     1    0    0    0    0    0    0    0    0    0    0    0]\n",
      " [2579  132    6  300  -15   67  230  237  140 6031    1    0    0    0\n",
      "     0    0    0    0    0    0    0    0    0    0    0    0    0    0\n",
      "     0    0    0    0    0    0    0    0    0    0    0    0    0    0\n",
      "     1    0    0    0    0    0    0    0    0    0    0    0]\n",
      " [2606   45    7  270    5  633  222  225  138 6256    1    0    0    0\n",
      "     0    0    0    0    0    0    0    0    0    0    0    0    0    0\n",
      "     0    0    0    0    0    0    0    0    0    0    0    0    0    0\n",
      "     1    0    0    0    0    0    0    0    0    0    0    0]\n",
      " [2605   49    4  234    7  573  222  230  144 6228    1    0    0    0\n",
      "     0    0    0    0    0    0    0    0    0    0    0    0    0    0\n",
      "     0    0    0    0    0    0    0    0    0    0    0    0    0    0\n",
      "     1    0    0    0    0    0    0    0    0    0    0    0]\n",
      " [2617   45    9  240   56  666  223  221  133 6244    1    0    0    0\n",
      "     0    0    0    0    0    0    0    0    0    0    0    0    0    0\n",
      "     0    0    0    0    0    0    0    0    0    0    0    0    0    0\n",
      "     1    0    0    0    0    0    0    0    0    0    0    0]\n",
      " [2612   59   10  247   11  636  228  219  124 6230    1    0    0    0\n",
      "     0    0    0    0    0    0    0    0    0    0    0    0    0    0\n",
      "     0    0    0    0    0    0    0    0    0    0    0    0    0    0\n",
      "     1    0    0    0    0    0    0    0    0    0    0    0]\n",
      " [2612  201    4  180   51  735  218  243  161 6222    1    0    0    0\n",
      "     0    0    0    0    0    0    0    0    0    0    0    0    0    0\n",
      "     0    0    0    1    0    0    0    0    0    0    0    0    0    0\n",
      "     0    0    0    0    0    0    0    0    0    0    0    0]]\n",
      "[5 2 2 5 2 5 5 5 5 5]\n",
      "[[9.84683852 1.85466952 8.67401432]\n",
      " [5.53994539 3.88646701 1.95633112]\n",
      " [9.40013094 2.1338879  0.24635963]\n",
      " [9.28281227 0.47592469 8.23337056]\n",
      " [3.70189588 2.25597807 3.18179497]\n",
      " [4.68901153 8.339966   3.69156044]\n",
      " [6.21364101 5.53012473 0.24976494]\n",
      " [1.70938226 8.9431075  5.86361995]\n",
      " [5.19448288 6.30311477 6.85181508]\n",
      " [0.19169558 0.38894844 6.18490783]]\n",
      "[1 1 1 1 0 1 1 1 1 0]\n"
     ]
    }
   ],
   "source": [
    "print('1 instance:\\n')\n",
    "\n",
    "X,y = stream.next_sample()\n",
    "print(X)\n",
    "print(y)\n",
    "\n",
    "X, y = sea.next_sample()\n",
    "print(X)\n",
    "print(y)\n",
    "\n",
    "print('\\n\\n10 instances:\\n')\n",
    "X,y = stream.next_sample(10)\n",
    "print(X)\n",
    "print(y)\n",
    "\n",
    "X, y = sea.next_sample(10)\n",
    "print(X)\n",
    "print(y)"
   ]
  },
  {
   "cell_type": "code",
   "execution_count": null,
   "metadata": {},
   "outputs": [],
   "source": []
  }
 ],
 "metadata": {
  "kernelspec": {
   "display_name": "Python 3",
   "language": "python",
   "name": "python3"
  },
  "language_info": {
   "codemirror_mode": {
    "name": "ipython",
    "version": 3
   },
   "file_extension": ".py",
   "mimetype": "text/x-python",
   "name": "python",
   "nbconvert_exporter": "python",
   "pygments_lexer": "ipython3",
   "version": "3.7.4"
  }
 },
 "nbformat": 4,
 "nbformat_minor": 2
}
