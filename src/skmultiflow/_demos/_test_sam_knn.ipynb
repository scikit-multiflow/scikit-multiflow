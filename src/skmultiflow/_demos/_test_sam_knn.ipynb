{
 "cells": [
  {
   "cell_type": "code",
   "execution_count": 1,
   "metadata": {},
   "outputs": [],
   "source": [
    "import logging\n",
    "import numpy as np\n",
    "from skmultiflow.data import FileStream\n",
    "from skmultiflow.lazy import SAMKNNClassifier\n",
    "from sklearn.metrics import accuracy_score\n",
    "from skmultiflow.utils.utils import get_dimensions\n",
    "%matplotlib notebook"
   ]
  },
  {
   "cell_type": "code",
   "execution_count": 7,
   "metadata": {},
   "outputs": [],
   "source": [
    "logging.basicConfig(format='%(message)s', level=logging.INFO)\n",
    "\n",
    "logging.info('loading dataset')\n",
    "\n",
    "#Setup stream\n",
    "stream = FileStream(\"https://raw.githubusercontent.com/scikit-multiflow/streaming-datasets/\"\n",
    "                    \"master/moving_squares.csv\")\n",
    "\n",
    "X, y = stream.next_sample(stream.n_samples)\n",
    "logging.info('%d samples' % X.shape[0])\n",
    "logging.info('%d dimensions' % X.shape[1])"
   ]
  },
  {
   "cell_type": "code",
   "execution_count": 3,
   "metadata": {},
   "outputs": [],
   "source": [
    "hyperParams ={'maxSize': 1000, 'nNeighbours': 5, 'knnWeights': 'distance', \n",
    "              'STMSizeAdaption': 'maxACCApprox', 'use_ltm': False}"
   ]
  },
  {
   "cell_type": "code",
   "execution_count": 6,
   "metadata": {},
   "outputs": [],
   "source": [
    "# Setup classifier and apply\n",
    "r, c = get_dimensions(X)\n",
    "classifier = SAMKNNClassifier(n_neighbors=hyperParams['nNeighbours'],\n",
    "                              max_window_size=hyperParams['maxSize'],\n",
    "                              weighting=hyperParams['knnWeights'],\n",
    "                              stm_size_option=hyperParams['STMSizeAdaption'],\n",
    "                              use_ltm=hyperParams['use_ltm'])\n",
    "\n",
    "logging.info('applying model on dataset')\n",
    "predicted_labels = []\n",
    "true_labels = []\n",
    "for i in range(r):\n",
    "    pred = classifier.predict(np.asarray([X[i]]))\n",
    "    predicted_labels.append(pred[0])\n",
    "    true_labels.append(y[i])\n",
    "    classifier = classifier.partial_fit(np.asarray([X[i]]), np.asarray([y[i]]), None)\n",
    "    if (i % (r // 20)) == 0:\n",
    "        logging.info(str((i // (r / 20))*5) + \"%\")\n",
    "                     \n",
    "accuracy = accuracy_score(true_labels, predicted_labels)\n",
    "logging.info('error rate %.2f%%' % (100-100*accuracy))"
   ]
  },
  {
   "cell_type": "code",
   "execution_count": null,
   "metadata": {},
   "outputs": [],
   "source": []
  }
 ],
 "metadata": {
  "kernelspec": {
   "display_name": "Python 3",
   "language": "python",
   "name": "python3"
  },
  "language_info": {
   "codemirror_mode": {
    "name": "ipython",
    "version": 3
   },
   "file_extension": ".py",
   "mimetype": "text/x-python",
   "name": "python",
   "nbconvert_exporter": "python",
   "pygments_lexer": "ipython3",
   "version": "3.7.4"
  }
 },
 "nbformat": 4,
 "nbformat_minor": 2
}
