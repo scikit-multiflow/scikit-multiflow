{
 "cells": [
  {
   "cell_type": "code",
   "execution_count": 1,
   "metadata": {},
   "outputs": [],
   "source": [
    "import numpy as np\n",
    "from skmultiflow.drift_detection import ADWIN"
   ]
  },
  {
   "cell_type": "markdown",
   "metadata": {},
   "source": [
    "In this demo, an ADWIN object evaluates a sequence of numbers corresponding to 2 distributions. \n",
    "The ADWIN object indicates the indices where change is detected.\n",
    "\n",
    "The first half of the data is a sequence of randomly generated 0's and 1's. \n",
    "The second half of the data is a normal distribution of integers from 0 to 7."
   ]
  },
  {
   "cell_type": "code",
   "execution_count": 2,
   "metadata": {},
   "outputs": [],
   "source": [
    "adwin = ADWIN()"
   ]
  },
  {
   "cell_type": "code",
   "execution_count": 3,
   "metadata": {},
   "outputs": [],
   "source": [
    "size = 2000\n",
    "change_start = 999"
   ]
  },
  {
   "cell_type": "code",
   "execution_count": 4,
   "metadata": {},
   "outputs": [],
   "source": [
    "np.random.seed(1)\n",
    "data_stream = np.random.randint(2, size=size)\n",
    "data_stream[change_start:] = np.random.randint(8, size=size-change_start)"
   ]
  },
  {
   "cell_type": "code",
   "execution_count": 5,
   "metadata": {},
   "outputs": [
    {
     "name": "stdout",
     "output_type": "stream",
     "text": [
      "Change has been detected in data: 0 - of index: 1023\n",
      "Change has been detected in data: 5 - of index: 1055\n",
      "Change has been detected in data: 3 - of index: 1087\n",
      "Change has been detected in data: 1 - of index: 1151\n"
     ]
    }
   ],
   "source": [
    "for i in range(size):\n",
    "    adwin.add_element(data_stream[i])\n",
    "    if adwin.detected_change():\n",
    "        print('Change has been detected in data: ' + str(data_stream[i]) + ' - of index: ' + str(i))"
   ]
  },
  {
   "cell_type": "code",
   "execution_count": null,
   "metadata": {},
   "outputs": [],
   "source": []
  }
 ],
 "metadata": {
  "kernelspec": {
   "display_name": "Python 3",
   "language": "python",
   "name": "python3"
  },
  "language_info": {
   "codemirror_mode": {
    "name": "ipython",
    "version": 3
   },
   "file_extension": ".py",
   "mimetype": "text/x-python",
   "name": "python",
   "nbconvert_exporter": "python",
   "pygments_lexer": "ipython3",
   "version": "3.6.8"
  }
 },
 "nbformat": 4,
 "nbformat_minor": 2
}
