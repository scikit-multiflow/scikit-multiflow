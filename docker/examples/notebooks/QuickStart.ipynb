{
 "cells": [
  {
   "cell_type": "markdown",
   "metadata": {},
   "source": [
    "# Scikit-multiflow"
   ]
  },
  {
   "cell_type": "markdown",
   "metadata": {},
   "source": [
    "`scikit-multiflow` is an open source framework for multi-output/multi-label and stream data mining. It is being developed by  **Télécom ParisTech** and  **École Polytechique**.  \n",
    "For more details, please visit the page of the [framework](https://scikit-multiflow.github.io/)."
   ]
  },
  {
   "cell_type": "markdown",
   "metadata": {},
   "source": [
    "### Classification in Data Streams"
   ]
  },
  {
   "cell_type": "markdown",
   "metadata": {},
   "source": [
    "The goal is making predictions in a datastream using the `scikit-multiflow` framework. In this notebook we will use two datastream classifiers on Electricity dataset:\n",
    "- kNN\n",
    "- Hoeffding Tree"
   ]
  },
  {
   "cell_type": "markdown",
   "metadata": {},
   "source": [
    "### Evaluation"
   ]
  },
  {
   "cell_type": "markdown",
   "metadata": {},
   "source": [
    "The following piece of code evaluates classifiers and gives the online visualization. It computes the current and global values for `accuracy` and `kappa`. Current value of selected evaluation measure represents the performance of the model on the current window and global value represents the performance of the model on whole datastream.\n",
    "`EvaluatePrequential` also gives the summary of evaluation showing the `Evaluation Time`."
   ]
  },
  {
   "cell_type": "code",
   "execution_count": 1,
   "metadata": {},
   "outputs": [],
   "source": [
    "%matplotlib notebook"
   ]
  },
  {
   "cell_type": "code",
   "execution_count": null,
   "metadata": {},
   "outputs": [],
   "source": [
    "from skmultiflow.trees import HoeffdingTree\n",
    "from skmultiflow.evaluation.evaluate_prequential import EvaluatePrequential\n",
    "from skmultiflow.lazy.knn_adwin import KNN\n",
    "from skmultiflow.data.file_stream import FileStream\n",
    "import matplotlib as plt\n",
    "\n",
    "plt.interactive(True)\n",
    "\n",
    "\n",
    "# 1. Create a stream\n",
    "stream = FileStream(\"./elec.csv\", n_targets=1, target_idx=-1)\n",
    "\n",
    "# 2. Prepare for use\n",
    "stream.prepare_for_use()\n",
    "\n",
    "# 3. Instantiate the HoeffdingTree classifier\n",
    "h = [\n",
    "        KNN(n_neighbors=10, max_window_size=100, leaf_size=30),\n",
    "        HoeffdingTree()\n",
    "     ]\n",
    "\n",
    "# 4. Setup the evaluator\n",
    "evaluator = EvaluatePrequential(pretrain_size=1000, max_samples=20000, show_plot=True, \n",
    "                                metrics=['accuracy', 'kappa'], \n",
    "                                batch_size=1)\n",
    "\n",
    "# 5. Run\n",
    "evaluator.evaluate(stream=stream, model=h)"
   ]
  }
 ],
 "metadata": {
  "kernelspec": {
   "display_name": "Python 3",
   "language": "python",
   "name": "python3"
  },
  "language_info": {
   "codemirror_mode": {
    "name": "ipython",
    "version": 3
   },
   "file_extension": ".py",
   "mimetype": "text/x-python",
   "name": "python",
   "nbconvert_exporter": "python",
   "pygments_lexer": "ipython3",
   "version": "3.5.2"
  }
 },
 "nbformat": 4,
 "nbformat_minor": 2
}
